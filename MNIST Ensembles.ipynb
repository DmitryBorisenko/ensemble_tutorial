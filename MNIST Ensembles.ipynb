{
 "cells": [
  {
   "cell_type": "markdown",
   "metadata": {},
   "source": [
    "## Building Optimal Ensembles of Neural Networks\n",
    "\n",
    "This notebook accompanies my [TDS](https://towardsdatascience.com/ensembles-the-almost-free-lunch-in-machine-learning-91af7ebe5090) post about ensemble optimization. The structure is as follows:\n",
    "\n",
    "[1. Settings](#section_settings)\n",
    "\n",
    "[2. Classes and Functions](#section_classes)\n",
    "\n",
    "[3. Training the Ensemble](#section_training)\n",
    "\n",
    "[4. Results](#section_results)\n"
   ]
  },
  {
   "cell_type": "markdown",
   "metadata": {},
   "source": [
    "<a id='section_settings'></a>\n",
    "### 1. Settings\n",
    "Import modules, set paths and random seeds."
   ]
  },
  {
   "cell_type": "code",
   "execution_count": 1,
   "metadata": {},
   "outputs": [],
   "source": [
    "import os\n",
    "import numpy as np\n",
    "import pandas as pd\n",
    "\n",
    "import torch\n",
    "from torch import nn\n",
    "from torchvision import datasets, transforms\n",
    "from torch.utils.data.sampler import SubsetRandomSampler\n",
    "from torch.utils.data import DataLoader\n",
    "\n",
    "import matplotlib.pyplot as plt\n",
    "import seaborn as sns\n",
    "\n",
    "# Paths to store MNIST data and model checkpoints\n",
    "DATA_PATH = \"./data/\"\n",
    "TRAINING_PATH = \"./training/\"\n",
    "\n",
    "# Set the seeds to ensure reproducibility\n",
    "np.random.seed(1)\n",
    "torch.manual_seed(1)\n",
    "\n",
    "# Create paths\n",
    "for path in [DATA_PATH, TRAINING_PATH]:\n",
    "    try:\n",
    "        os.mkdir(path)\n",
    "    except FileExistsError:\n",
    "        pass"
   ]
  },
  {
   "cell_type": "markdown",
   "metadata": {},
   "source": [
    "<a id='section_classes'></a>\n",
    "### 2. Classes and Functions\n",
    "First, define the funciton to optimize ensembles:"
   ]
  },
  {
   "cell_type": "code",
   "execution_count": 2,
   "metadata": {},
   "outputs": [],
   "source": [
    "def ensemble_selector(loss_function, y_hats, y_true, init_size=1,\n",
    "                      replacement=True, max_iter=100):\n",
    "    \"\"\"Implementation of the algorithm of Caruana et al. (2004) 'Ensemble\n",
    "    Selection from Libraries of Models'. Given a loss function mapping\n",
    "    predicted and ground truth values to a scalar along with a dictionary of\n",
    "    models with predicted and ground truth values, constructs an optimal\n",
    "    ensemble minimizing ensemble loss, by default allowing models to appear\n",
    "    several times in the ensemble.\n",
    "\n",
    "    Parameters\n",
    "    ----------\n",
    "    loss_function: function\n",
    "        accepting two arguments - numpy arrays of predictions and true values - \n",
    "        and returning a scalar\n",
    "    y_hats: dict\n",
    "        with keys being model names and values being numpy arrays of predicted\n",
    "        values\n",
    "    y_true: np.array\n",
    "        numpy array of true values, same for each model\n",
    "    init_size: int\n",
    "        number of models in the initial ensemble, picked by the best loss.\n",
    "        Default is 1\n",
    "    replacement: bool\n",
    "        whether the models should be returned back to the pool of models once\n",
    "        added to the ensemble. Default is True\n",
    "    max_iter: int\n",
    "        number of iterations for selection with replacement to perform. Only\n",
    "        relevant if 'replacement' is True, otherwise iterations continue until\n",
    "        the dataset is exhausted i.e.\n",
    "        min(len(y_hats.keys())-init_size, max_iter). Default is 100\n",
    "\n",
    "    Returns\n",
    "    -------\n",
    "    ensemble_loss: pd.Series\n",
    "        with loss of the ensemble over iterations\n",
    "    model_weights: pd.DataFrame\n",
    "        with model names across columns and ensemble selection iterations\n",
    "        across rows. Each value is the weight of a model in the ensemble\n",
    "\n",
    "    \"\"\"\n",
    "    # Step 1: compute losses\n",
    "    losses = dict()\n",
    "    for model, y_hat in y_hats.items():\n",
    "        losses[model] = loss_function(y_hat, y_true)\n",
    "\n",
    "    # Get the initial ensemble comprised of the best models\n",
    "    losses = pd.Series(losses).sort_values()\n",
    "    init_ensemble = losses.iloc[:init_size].index.tolist()\n",
    "\n",
    "    # Compute its loss\n",
    "    if init_size == 1:\n",
    "        # Take the best loss\n",
    "        init_loss = losses.loc[init_ensemble].values[0]\n",
    "        y_hat_avg = y_hats[init_ensemble[0]].copy()\n",
    "    else:\n",
    "        # Average the predictions over several models\n",
    "        y_hat_avg = np.array(\n",
    "            [y_hats[mod] for mod in init_ensemble]).mean(axis=0)\n",
    "        init_loss = loss_function(y_hat_avg, y_true)\n",
    "\n",
    "    # Define the set of available models\n",
    "    if replacement:\n",
    "        available_models = list(y_hats.keys())\n",
    "    else:\n",
    "        available_models = losses.index.difference(init_ensemble).tolist()\n",
    "        # Redefine maximum number of iterations\n",
    "        max_iter = min(len(available_models), max_iter)\n",
    "\n",
    "    # Sift through the available models keeping track of the ensemble loss\n",
    "    # Redefine variables for the clarity of exposition\n",
    "    current_loss = init_loss\n",
    "    current_size = init_size\n",
    "\n",
    "    loss_progress = [current_loss]\n",
    "    ensemble_members = [init_ensemble]\n",
    "    for i in range(max_iter):\n",
    "        # Compute weights for predictions\n",
    "        w_current = current_size / (current_size + 1)\n",
    "        w_new = 1 / (current_size + 1)\n",
    "\n",
    "        # Try all models one by one\n",
    "        tmp_losses = dict()\n",
    "        tmp_y_avg = dict()\n",
    "        for mod in available_models:\n",
    "            tmp_y_avg[mod] = w_current * y_hat_avg + w_new * y_hats[mod]\n",
    "            tmp_losses[mod] = loss_function(tmp_y_avg[mod], y_true)\n",
    "\n",
    "        # Locate the best trial\n",
    "        best_model = pd.Series(tmp_losses).sort_values().index[0]\n",
    "\n",
    "        # Update the loop variables and record progress\n",
    "        current_loss = tmp_losses[best_model]\n",
    "        loss_progress.append(current_loss)\n",
    "        y_hat_avg = tmp_y_avg[best_model]\n",
    "        current_size += 1\n",
    "        ensemble_members.append(ensemble_members[-1] + [best_model])\n",
    "\n",
    "        if not replacement:\n",
    "            available_models.remove(best_model)\n",
    "\n",
    "    # Organize the output\n",
    "    ensemble_loss = pd.Series(loss_progress, name=\"loss\")\n",
    "    model_weights = pd.DataFrame(index=ensemble_loss.index,\n",
    "                                 columns=y_hats.keys())\n",
    "    for ix, row in model_weights.iterrows():\n",
    "        weights = pd.Series(ensemble_members[ix]).value_counts()\n",
    "        weights = weights / weights.sum()\n",
    "        model_weights.loc[ix, weights.index] = weights\n",
    "\n",
    "    return ensemble_loss, model_weights.fillna(0).astype(float)"
   ]
  },
  {
   "cell_type": "markdown",
   "metadata": {},
   "source": [
    "Second, define utility functions to compute cross-entropy loss and accuarcy given numpy arrays of predictions and targets:"
   ]
  },
  {
   "cell_type": "code",
   "execution_count": 3,
   "metadata": {},
   "outputs": [],
   "source": [
    "def cross_entropy(predictions, targets, epsilon=1e-8):\n",
    "    \"\"\"Compute cross entropy given predictions as class probabilities and one-\n",
    "    hot encoded ground truth labels.\n",
    "    Parameters\n",
    "    ----------\n",
    "    predictions: np.array\n",
    "        (num examples, num_classes) of predicted class probabilities\n",
    "    targets: np.array\n",
    "        (num examples, num_classes) of one-hot encoded true class labels\n",
    "    epsilon: float\n",
    "     a constant to clip predicted probabilities to avoid taking log of zero\n",
    "    Returns\n",
    "    -------\n",
    "    cross_entropy: float\n",
    "        cross entropy of the inputs\n",
    "    \"\"\"\n",
    "    predictions = np.clip(predictions, epsilon, 1-epsilon)\n",
    "    return (-np.log(predictions) * targets).sum(axis=1).mean()\n",
    "\n",
    "\n",
    "def accuracy(predictions, targets, one_hot_targets=True):\n",
    "    \"\"\"Compute accuracy given arrays of predictions and targets.\n",
    "\n",
    "    Parameters\n",
    "    predictions: np.array\n",
    "        (num examples, num_classes) of predicted class probabilities/scores\n",
    "    targets: np.array\n",
    "        (num examples, num_classes) of one hot encoded true class labels if\n",
    "        'one_hot_targets' is True, or true class indices if it is False\n",
    "    one_hot_targets: bool\n",
    "        whether the target are in one-hot or class index format. Default is\n",
    "        True\n",
    "\n",
    "    Returns\n",
    "    -------\n",
    "    accuracy: float\n",
    "        accuracy of predictions\n",
    "\n",
    "    \"\"\"\n",
    "    if one_hot_targets:\n",
    "        return (predictions.argmax(axis=1) == targets.argmax(axis=1)).mean()\n",
    "    else:\n",
    "        return (predictions.argmax(axis=1) == targets).mean()"
   ]
  },
  {
   "cell_type": "markdown",
   "metadata": {},
   "source": [
    "Finally, define the multilayer perceptron class for MNIST:"
   ]
  },
  {
   "cell_type": "code",
   "execution_count": 4,
   "metadata": {},
   "outputs": [],
   "source": [
    "class MNISTMLP(nn.Module):\n",
    "    \"\"\"A simple MLP for MNIST.\n",
    "\n",
    "    Class Attributes\n",
    "    ----------------\n",
    "    n_classes: int\n",
    "        number of classes, corresponds to dimensionality of the output layer\n",
    "\n",
    "    \"\"\"\n",
    "    n_classes = 10\n",
    "\n",
    "    def __init__(self, d_in, n_layers, units, dropout, activation=nn.ReLU):\n",
    "        \"\"\"Instantiate.\n",
    "\n",
    "        Parameters\n",
    "        ----------\n",
    "        d_in: int\n",
    "            dimension of input vector\n",
    "        n_layers: int\n",
    "            number of hidden layers\n",
    "        units: iterable\n",
    "            of length equal number of layers with elements being integers\n",
    "            specifying number of units in each layer\n",
    "        dropout: float or None\n",
    "            dropout probability, if None, no dropout is applied\n",
    "        activation: torch.nn.modules.activation\n",
    "            hidden layer activation function: 'nn.ReLU', 'nn.GELU', etc.\n",
    "            Default is 'nn.ReLU'\n",
    "\n",
    "        \"\"\"\n",
    "        super().__init__()\n",
    "\n",
    "        # Check if units and layers match\n",
    "        assert len(units) == n_layers\n",
    "\n",
    "        # Assign parameters as attributes\n",
    "        self.d_in = d_in\n",
    "        self.n_layers = n_layers\n",
    "        self.units = units\n",
    "        self.activation = activation\n",
    "\n",
    "        # Dropout operation\n",
    "        if dropout is None:\n",
    "            self.dropout = None\n",
    "        else:\n",
    "            self.dropout = nn.Dropout(p=dropout)\n",
    "\n",
    "        # Construct intermediate layers\n",
    "        if dropout is None:\n",
    "            layers = [nn.Linear(d_in, units[0]), self.activation()]\n",
    "            if n_layers > 1:\n",
    "                for i, u in enumerate(units):\n",
    "                    if i > 0:\n",
    "                        layers.extend([nn.Linear(units[i-1], units[i]),\n",
    "                                       self.activation()])\n",
    "        else:\n",
    "            layers = [nn.Linear(d_in, units[0]), self.activation(),\n",
    "                      self.dropout]\n",
    "            if n_layers > 1:\n",
    "                for i, u in enumerate(units):\n",
    "                    if i > 0:\n",
    "                        layers.extend([nn.Linear(units[i-1], units[i]),\n",
    "                                       self.activation(), self.dropout])\n",
    "\n",
    "        # Final layer: outputs - raw scores\n",
    "        self.final_layer = [nn.Linear(units[-1], self.n_classes)]\n",
    "        layers.extend(self.final_layer)\n",
    "\n",
    "        self.layers = nn.Sequential(*layers)\n",
    "\n",
    "    def forward(self, x):\n",
    "        \"\"\"Forward pass.\"\"\"\n",
    "        flattened_x = x.view(-1, self.d_in)\n",
    "        return self.layers(flattened_x)"
   ]
  },
  {
   "cell_type": "markdown",
   "metadata": {},
   "source": [
    "<a id='section_training'></a>\n",
    "### 3. Training the Ensemble\n",
    "Now when we are done with settings and definitions, let's do some more settings and definitions, this time for training the ensemble candidates. We will train 10 identical MLPs (with differrent initializations) for only 3 epochs (to make the impact of ensembling more dramatic), using 25% of the training data for validation. The network is a vanilla MLP with 3 hidden layers of 100 units each, trained with minibatches of 32 examples, learning rate of 0.001 and no dropout."
   ]
  },
  {
   "cell_type": "code",
   "execution_count": 5,
   "metadata": {},
   "outputs": [],
   "source": [
    "models_to_train = 10  # train this many models\n",
    "max_epochs = 3        # for this many epochs\n",
    "val_spilt = 0.25      # % of the torch MNIST train set for validation\n",
    "\n",
    "# Define model names \n",
    "model_names = [\"M\" + str(m) for m in range(models_to_train)]\n",
    "\n",
    "# Hyperparameters defining network architecture and training\n",
    "n_layers = 3 \n",
    "units = [100, 100, 100]\n",
    "batch_size = 32\n",
    "learning_rate = 1e-3\n",
    "dropout = None"
   ]
  },
  {
   "cell_type": "markdown",
   "metadata": {},
   "source": [
    "Now, load the MNIST data, and randomly split the 60k of training examples into training and validation sets."
   ]
  },
  {
   "cell_type": "code",
   "execution_count": 6,
   "metadata": {},
   "outputs": [],
   "source": [
    "# Load the data\n",
    "dataset_train = datasets.MNIST(DATA_PATH, train=True, download=True,\n",
    "                               transform=transforms.ToTensor())\n",
    "dataset_test = datasets.MNIST(DATA_PATH, train=False, download=True,\n",
    "                              transform=transforms.ToTensor())\n",
    "\n",
    "# Prepare the training and validation samples\n",
    "all_indices = list(range(len(dataset_train)))          # enumerate samples\n",
    "np.random.shuffle(all_indices)                         # shuffle\n",
    "split = int(np.floor(val_spilt * len(dataset_train)))  # train/val samples\n",
    "train_idx = all_indices[split:]\n",
    "val_idx = all_indices[:split]"
   ]
  },
  {
   "cell_type": "markdown",
   "metadata": {},
   "source": [
    "Next, wrap the datasets into torch `DataLoader`s, note that we set batch size to number of examples for validation and test sets in order to get the entire datasets as tensors, thus avoiding unnecessary loops."
   ]
  },
  {
   "cell_type": "code",
   "execution_count": 7,
   "metadata": {},
   "outputs": [],
   "source": [
    "# Define dataloaders\n",
    "train_loader = DataLoader(dataset_train, batch_size=batch_size,\n",
    "                          sampler=SubsetRandomSampler(indices=train_idx))\n",
    "\n",
    "# Full batch for the validation and test loaders\n",
    "val_loader = DataLoader(dataset_train, batch_size=len(val_idx),\n",
    "                        sampler=SubsetRandomSampler(indices=val_idx))\n",
    "test_loader = DataLoader(dataset_test, batch_size=len(dataset_test),\n",
    "                         shuffle=False)\n",
    "\n",
    "# Since both validation and test use full batch, fetch the features and\n",
    "# targets as tensors\n",
    "for batch in val_loader:\n",
    "    x_val, y_val = batch[0], batch[1]\n",
    "for batch in test_loader:\n",
    "    x_test, y_test = batch[0], batch[1]"
   ]
  },
  {
   "cell_type": "markdown",
   "metadata": {},
   "source": [
    "We train each model for `max_epochs` recording loss and accuracy on the train and validation sets, and saving the checkpoints after each epoch."
   ]
  },
  {
   "cell_type": "code",
   "execution_count": 8,
   "metadata": {},
   "outputs": [
    {
     "name": "stdout",
     "output_type": "stream",
     "text": [
      "Model Name M0, Epoch 0:\n",
      "Train Loss: 0.3389, Train Acc: 0.8988 Val Loss: 0.1844, Val Acc: 0.9430\n",
      "Model Name M0, Epoch 1:\n",
      "Train Loss: 0.1396, Train Acc: 0.9576 Val Loss: 0.1214, Val Acc: 0.9641\n",
      "Model Name M0, Epoch 2:\n",
      "Train Loss: 0.1005, Train Acc: 0.9682 Val Loss: 0.1264, Val Acc: 0.9634\n",
      "Model Name M1, Epoch 0:\n",
      "Train Loss: 0.3515, Train Acc: 0.8943 Val Loss: 0.1858, Val Acc: 0.9447\n",
      "Model Name M1, Epoch 1:\n",
      "Train Loss: 0.1442, Train Acc: 0.9562 Val Loss: 0.1462, Val Acc: 0.9548\n",
      "Model Name M1, Epoch 2:\n",
      "Train Loss: 0.1003, Train Acc: 0.9685 Val Loss: 0.1097, Val Acc: 0.9675\n",
      "Model Name M2, Epoch 0:\n",
      "Train Loss: 0.3409, Train Acc: 0.8970 Val Loss: 0.1903, Val Acc: 0.9441\n",
      "Model Name M2, Epoch 1:\n",
      "Train Loss: 0.1432, Train Acc: 0.9563 Val Loss: 0.1352, Val Acc: 0.9578\n",
      "Model Name M2, Epoch 2:\n",
      "Train Loss: 0.0992, Train Acc: 0.9690 Val Loss: 0.1451, Val Acc: 0.9567\n",
      "Model Name M3, Epoch 0:\n",
      "Train Loss: 0.3321, Train Acc: 0.9003 Val Loss: 0.1745, Val Acc: 0.9462\n",
      "Model Name M3, Epoch 1:\n",
      "Train Loss: 0.1347, Train Acc: 0.9589 Val Loss: 0.1425, Val Acc: 0.9566\n",
      "Model Name M3, Epoch 2:\n",
      "Train Loss: 0.0927, Train Acc: 0.9709 Val Loss: 0.1260, Val Acc: 0.9617\n",
      "Model Name M4, Epoch 0:\n",
      "Train Loss: 0.3474, Train Acc: 0.8941 Val Loss: 0.1834, Val Acc: 0.9465\n",
      "Model Name M4, Epoch 1:\n",
      "Train Loss: 0.1406, Train Acc: 0.9568 Val Loss: 0.1408, Val Acc: 0.9582\n",
      "Model Name M4, Epoch 2:\n",
      "Train Loss: 0.0994, Train Acc: 0.9696 Val Loss: 0.1141, Val Acc: 0.9665\n",
      "Model Name M5, Epoch 0:\n",
      "Train Loss: 0.3273, Train Acc: 0.8996 Val Loss: 0.1649, Val Acc: 0.9497\n",
      "Model Name M5, Epoch 1:\n",
      "Train Loss: 0.1300, Train Acc: 0.9599 Val Loss: 0.1351, Val Acc: 0.9586\n",
      "Model Name M5, Epoch 2:\n",
      "Train Loss: 0.0933, Train Acc: 0.9710 Val Loss: 0.1100, Val Acc: 0.9661\n",
      "Model Name M6, Epoch 0:\n",
      "Train Loss: 0.3355, Train Acc: 0.8992 Val Loss: 0.1868, Val Acc: 0.9435\n",
      "Model Name M6, Epoch 1:\n",
      "Train Loss: 0.1367, Train Acc: 0.9585 Val Loss: 0.1225, Val Acc: 0.9612\n",
      "Model Name M6, Epoch 2:\n",
      "Train Loss: 0.0946, Train Acc: 0.9707 Val Loss: 0.1387, Val Acc: 0.9606\n",
      "Model Name M7, Epoch 0:\n",
      "Train Loss: 0.3256, Train Acc: 0.9019 Val Loss: 0.1975, Val Acc: 0.9424\n",
      "Model Name M7, Epoch 1:\n",
      "Train Loss: 0.1320, Train Acc: 0.9596 Val Loss: 0.1293, Val Acc: 0.9615\n",
      "Model Name M7, Epoch 2:\n",
      "Train Loss: 0.0910, Train Acc: 0.9717 Val Loss: 0.1062, Val Acc: 0.9676\n",
      "Model Name M8, Epoch 0:\n",
      "Train Loss: 0.3584, Train Acc: 0.8874 Val Loss: 0.1788, Val Acc: 0.9479\n",
      "Model Name M8, Epoch 1:\n",
      "Train Loss: 0.1440, Train Acc: 0.9563 Val Loss: 0.1291, Val Acc: 0.9615\n",
      "Model Name M8, Epoch 2:\n",
      "Train Loss: 0.1000, Train Acc: 0.9693 Val Loss: 0.1326, Val Acc: 0.9605\n",
      "Model Name M9, Epoch 0:\n",
      "Train Loss: 0.3337, Train Acc: 0.8983 Val Loss: 0.1975, Val Acc: 0.9395\n",
      "Model Name M9, Epoch 1:\n",
      "Train Loss: 0.1351, Train Acc: 0.9590 Val Loss: 0.1358, Val Acc: 0.9584\n",
      "Model Name M9, Epoch 2:\n",
      "Train Loss: 0.0954, Train Acc: 0.9699 Val Loss: 0.1188, Val Acc: 0.9636\n"
     ]
    }
   ],
   "source": [
    "# Loss function is negative log-likelihood/cross-entropy\n",
    "loss_fn = nn.CrossEntropyLoss()\n",
    "\n",
    "# Train a pool of ensemble candidates\n",
    "for model_name in model_names:\n",
    "\n",
    "    # Define the model\n",
    "    mlp = MNISTMLP(d_in=dataset_train[0][0].reshape(-1).shape[0],\n",
    "                   n_layers=n_layers, units=units, dropout=None)\n",
    "    optimizer = torch.optim.Adam(mlp.parameters(), lr=learning_rate)\n",
    "\n",
    "    train_loss = []\n",
    "    train_acc = []\n",
    "    val_loss = []\n",
    "    val_acc = []\n",
    "    for epoch in range(max_epochs):\n",
    "\n",
    "        # Training loop\n",
    "        mlp.train()\n",
    "        epoch_loss = []\n",
    "        epoch_acc = []\n",
    "        for x_batch, y_true_batch in train_loader:\n",
    "            # Forward pass\n",
    "            y_hat = mlp(x_batch)\n",
    "\n",
    "            # Compute loss\n",
    "            loss = loss_fn(y_hat, y_true_batch)\n",
    "\n",
    "            # Backpropagate and update the weights\n",
    "            loss.backward()\n",
    "            optimizer.step()\n",
    "\n",
    "            # Reset gradients\n",
    "            optimizer.zero_grad()\n",
    "\n",
    "            # Append loss and accuracy estimates\n",
    "            epoch_loss.append(loss.item())\n",
    "            epoch_acc.extend(\n",
    "                (y_hat.argmax(dim=1) == y_true_batch)\n",
    "                .detach().numpy().tolist()\n",
    "                )\n",
    "\n",
    "        # Compute metrics for this epoch\n",
    "        train_loss.append(np.array(epoch_loss).mean())\n",
    "        train_acc.append(np.array(epoch_acc).mean())\n",
    "\n",
    "        # Process validation set\n",
    "        mlp.eval()\n",
    "        y_hat = mlp(x_val)\n",
    "        loss = loss_fn(y_hat, y_val)\n",
    "        val_loss.append(loss.item())\n",
    "        val_acc.append(\n",
    "            (y_hat.argmax(dim=1) == y_val).float().mean().item()\n",
    "            )\n",
    "\n",
    "        print(\n",
    "            \"Model Name {}, Epoch {}:\\n\"\n",
    "            \"Train Loss: {:4.4f}, Train Acc: {:4.4f} \"\n",
    "            \"Val Loss: {:4.4f}, Val Acc: {:4.4f}\".format(\n",
    "                model_name, epoch,\n",
    "                train_loss[-1], train_acc[-1],\n",
    "                val_loss[-1], val_acc[-1])\n",
    "            )\n",
    "\n",
    "        # Save the checkpoint\n",
    "        torch.save({\n",
    "            \"epoch\": epoch,\n",
    "            \"model_state_dict\": mlp.state_dict(),\n",
    "            \"optimizer_state_dict\": optimizer.state_dict(),\n",
    "            \"history\": pd.DataFrame(\n",
    "                {\"train_loss\": train_loss, \"train_acc\": train_acc,\n",
    "                 \"val_loss\": val_loss, \"val_acc\": val_acc}).astype(float),\n",
    "            \"train_loss\": train_loss[-1],\n",
    "            \"train_acc\": train_acc[-1],\n",
    "            \"val_loss\": val_loss[-1],\n",
    "            \"val_acc\": val_acc[-1]\n",
    "            },\n",
    "            TRAINING_PATH + model_name + \"_epoch_\" + str(epoch) + \".p\")"
   ]
  },
  {
   "cell_type": "markdown",
   "metadata": {},
   "source": [
    "In the training directory there is now a bunch of checkpoints for each model: "
   ]
  },
  {
   "cell_type": "code",
   "execution_count": 9,
   "metadata": {},
   "outputs": [
    {
     "data": {
      "text/plain": [
       "['M0_epoch_0.p',\n",
       " 'M0_epoch_1.p',\n",
       " 'M0_epoch_2.p',\n",
       " 'M1_epoch_0.p',\n",
       " 'M1_epoch_1.p',\n",
       " 'M1_epoch_2.p',\n",
       " 'M2_epoch_0.p',\n",
       " 'M2_epoch_1.p',\n",
       " 'M2_epoch_2.p',\n",
       " 'M3_epoch_0.p']"
      ]
     },
     "execution_count": 9,
     "metadata": {},
     "output_type": "execute_result"
    }
   ],
   "source": [
    "os.listdir(TRAINING_PATH)[:10]"
   ]
  },
  {
   "cell_type": "markdown",
   "metadata": {},
   "source": [
    "Next, for each model we gather the results for the best performing epoch (according to the validation loss), computing losses and accuracies on the validation and test sets, and storing validation set predictions."
   ]
  },
  {
   "cell_type": "code",
   "execution_count": 10,
   "metadata": {},
   "outputs": [],
   "source": [
    "# For each model pick the checkpoint with the lowest validation loss, then:\n",
    "# 1. compute losses and accuracies on the validation and test set\n",
    "# 2. get predictions on the validation set\n",
    "trained_models = {}\n",
    "metrics = {}\n",
    "y_hats_val = {}\n",
    "y_hats_test = {}\n",
    "for model_name in model_names:\n",
    "    # Load the last checkpoint\n",
    "    last_checkpoint = torch.load(\n",
    "        TRAINING_PATH + model_name + \"_epoch_\" + str(max_epochs-1) + \".p\")\n",
    "\n",
    "    # Find the best checkpoint by validation loss\n",
    "    best_by_val_loss = \\\n",
    "        last_checkpoint[\"history\"].sort_values(\"val_loss\").index[0]\n",
    "    best_checkpoint = torch.load(\n",
    "        TRAINING_PATH + model_name + \"_epoch_\" +\n",
    "        str(best_by_val_loss) + \".p\"\n",
    "        )\n",
    "\n",
    "    # Restore the best checkpoint\n",
    "    mlp = MNISTMLP(d_in=dataset_train[0][0].reshape(-1).shape[0],\n",
    "                   n_layers=n_layers, units=units, dropout=dropout)\n",
    "    mlp.load_state_dict(best_checkpoint[\"model_state_dict\"])\n",
    "    mlp.eval()\n",
    "\n",
    "    # Compute predictions on the validation and test sets, compute the\n",
    "    # metrics for the latter (validation stuff has already been saved)\n",
    "    y_hat_val = mlp(x_val)\n",
    "    y_hat_test = mlp(x_test)\n",
    "\n",
    "    test_loss = loss_fn(y_hat_test, y_test).item()\n",
    "    test_acc = (y_hat_test.argmax(dim=1) == y_test).float().mean().item()\n",
    "\n",
    "    # Store the outputs\n",
    "    trained_models[model_name] = mlp\n",
    "    metrics[model_name] = {\n",
    "        \"val_loss\": best_checkpoint[\"val_loss\"],\n",
    "        \"val_acc\": best_checkpoint[\"val_acc\"],\n",
    "        \"test_loss\": test_loss,\n",
    "        \"test_acc\": test_acc\n",
    "        }\n",
    "    # Convert predictions to class probabilities\n",
    "    y_hats_val[model_name] = y_hat_val.softmax(dim=1).detach().numpy()\n",
    "    y_hats_test[model_name] = y_hat_test.softmax(dim=1).detach().numpy()\n",
    "\n",
    "# Convert the metrics dict to a dataframe\n",
    "metrics = pd.DataFrame(metrics).T.astype(float)"
   ]
  },
  {
   "cell_type": "markdown",
   "metadata": {},
   "source": [
    "<a id='section_results'></a>\n",
    "### 4. Results"
   ]
  },
  {
   "cell_type": "markdown",
   "metadata": {},
   "source": [
    "Now we have everything to start building ensembles. Let's examine the performance of the individual models first: "
   ]
  },
  {
   "cell_type": "code",
   "execution_count": 11,
   "metadata": {},
   "outputs": [
    {
     "data": {
      "image/png": "[encoded data removed]",
      "text/plain": [
       "<Figure size 1080x504 with 2 Axes>"
      ]
     },
     "metadata": {
      "needs_background": "light"
     },
     "output_type": "display_data"
    }
   ],
   "source": [
    "# Separate dataframes for losses and accuracies\n",
    "metrics_loss = metrics.filter(like=\"loss\").stack().reset_index()\n",
    "metrics_loss.columns = [\"model\", \"val/test\", \"loss\"]\n",
    "\n",
    "metrics_acc = metrics.filter(like=\"acc\").stack().reset_index()\n",
    "metrics_acc.columns = [\"model\", \"val/test\", \"acc\"]\n",
    "\n",
    "# Plot losses and accuracies\n",
    "fig, ax = plt.subplots(1, 2, figsize=(15, 7))\n",
    "sns.barplot(x=\"model\", y=\"loss\", hue=\"val/test\", data=metrics_loss,\n",
    "            alpha=0.75, saturation=0.90, palette=[\"#1f77b4\", \"#ff7f0e\"],\n",
    "            ax=ax[0])\n",
    "sns.barplot(x=\"model\", y=\"acc\", hue=\"val/test\", data=metrics_acc,\n",
    "            alpha=0.75, saturation=0.90, palette=[\"#1f77b4\", \"#ff7f0e\"],\n",
    "            ax=ax[1])\n",
    "\n",
    "ax[0].set_ylim(metrics_loss[\"loss\"].min() - 1e-2,\n",
    "               metrics_loss[\"loss\"].max() + 1e-2)\n",
    "ax[1].set_ylim(metrics_acc[\"acc\"].min()-3e-3,\n",
    "               metrics_acc[\"acc\"].max()+3e-3)\n",
    "\n",
    "ax[0].set_title(\"Loss\", fontsize=17)\n",
    "ax[1].set_title(\"Accuracy\", fontsize=17)\n",
    "\n",
    "for x in ax:\n",
    "    x.xaxis.set_tick_params(rotation=0, labelsize=15)\n",
    "    x.yaxis.set_tick_params(rotation=0, labelsize=15)\n",
    "    x.set_xlabel(\"Model\", visible=True, fontsize=15)\n",
    "    x.set_ylabel(\"\", visible=False)\n",
    "\n",
    "    handles, labels = x.get_legend_handles_labels()\n",
    "    x.legend(handles=handles, labels=labels, fontsize=15)\n",
    "\n",
    "fig.tight_layout(w_pad=5)"
   ]
  },
  {
   "cell_type": "markdown",
   "metadata": {},
   "source": [
    "Note, that since the models were trained for 3 epochs only, the classification accuracy is rather poor, even for the MLP architecture."
   ]
  },
  {
   "cell_type": "markdown",
   "metadata": {},
   "source": [
    "Let's build an ensmble minimizing the validation loss, by drawing the models with replacement and adding them to the ensemble one-by-one, minimizing the loss of the ensemble on the validation set."
   ]
  },
  {
   "cell_type": "markdown",
   "metadata": {},
   "source": []
  },
  {
   "cell_type": "code",
   "execution_count": 12,
   "metadata": {},
   "outputs": [],
   "source": [
    "# One-hot encoded validation labels\n",
    "y_true_one_hot_val = np.eye(10)[y_val.numpy()]\n",
    "\n",
    "ensemble_loss, model_weights = ensemble_selector(\n",
    "    loss_function=cross_entropy, y_hats=y_hats_val,\n",
    "    y_true=y_true_one_hot_val, init_size=1, replacement=True, max_iter=10\n",
    "    )"
   ]
  },
  {
   "cell_type": "markdown",
   "metadata": {},
   "source": [
    "`ensemble_loss` is a series of ensemble losses at each iteration of the algorithm, while `ensemble_weights` is a dataframe of the corresponding weights:"
   ]
  },
  {
   "cell_type": "code",
   "execution_count": 13,
   "metadata": {},
   "outputs": [
    {
     "name": "stdout",
     "output_type": "stream",
     "text": [
      "0     0.106177\n",
      "1     0.091242\n",
      "2     0.088850\n",
      "3     0.087228\n",
      "4     0.086688\n",
      "5     0.086664\n",
      "6     0.086605\n",
      "7     0.086684\n",
      "8     0.086654\n",
      "9     0.086604\n",
      "10    0.086574\n",
      "Name: loss, dtype: float64\n"
     ]
    }
   ],
   "source": [
    "print(ensemble_loss)"
   ]
  },
  {
   "cell_type": "code",
   "execution_count": 14,
   "metadata": {},
   "outputs": [
    {
     "name": "stdout",
     "output_type": "stream",
     "text": [
      "     M0        M1   M2   M3        M4        M5   M6        M7   M8        M9\n",
      "0   0.0  0.000000  0.0  0.0  0.000000  0.000000  0.0  1.000000  0.0  0.000000\n",
      "1   0.0  0.000000  0.0  0.0  0.000000  0.500000  0.0  0.500000  0.0  0.000000\n",
      "2   0.0  0.000000  0.0  0.0  0.000000  0.333333  0.0  0.333333  0.0  0.333333\n",
      "3   0.0  0.000000  0.0  0.0  0.250000  0.250000  0.0  0.250000  0.0  0.250000\n",
      "4   0.0  0.200000  0.0  0.0  0.200000  0.200000  0.0  0.200000  0.0  0.200000\n",
      "5   0.0  0.166667  0.0  0.0  0.166667  0.166667  0.0  0.333333  0.0  0.166667\n",
      "6   0.0  0.142857  0.0  0.0  0.142857  0.285714  0.0  0.285714  0.0  0.142857\n",
      "7   0.0  0.125000  0.0  0.0  0.250000  0.250000  0.0  0.250000  0.0  0.125000\n",
      "8   0.0  0.111111  0.0  0.0  0.222222  0.222222  0.0  0.222222  0.0  0.222222\n",
      "9   0.0  0.100000  0.0  0.0  0.200000  0.200000  0.0  0.300000  0.0  0.200000\n",
      "10  0.0  0.181818  0.0  0.0  0.181818  0.181818  0.0  0.272727  0.0  0.181818\n"
     ]
    }
   ],
   "source": [
    "print(model_weights)"
   ]
  },
  {
   "cell_type": "markdown",
   "metadata": {},
   "source": [
    "Out of 10 models only 5 ever receive a non-zero weight in the ensemble. The figure below plots weights of the ensemble's constituents as a function of ensemble optimization steps with lighter hues corresponding to lower average weights over all iterations. The ensemble is initialized with the strongest single model __M7__ and then sequentially adds models to minimize the loss on the validation set. Once no new model can improve the loss any further, the algorithm continues to add the models that are already in the ensemble increasing their weight."
   ]
  },
  {
   "cell_type": "code",
   "execution_count": 15,
   "metadata": {},
   "outputs": [
    {
     "data": {
      "image/png": "[encoded data removed]",
      "text/plain": [
       "<Figure size 1080x504 with 1 Axes>"
      ]
     },
     "metadata": {
      "needs_background": "light"
     },
     "output_type": "display_data"
    }
   ],
   "source": [
    "# Locate non-zero weights and sort models by their average weight\n",
    "weights_to_plot = model_weights.loc[:, (model_weights != 0).any()]\n",
    "weights_to_plot = weights_to_plot[\n",
    "    weights_to_plot.mean().sort_values(ascending=False).index]\n",
    "\n",
    "# A palette corresponding to the number of models with non-zero weights\n",
    "palette = sns.cubehelix_palette(weights_to_plot.shape[1], reverse=True)\n",
    "\n",
    "# Plot\n",
    "fig, ax = plt.subplots(1, 1, figsize=(15, 7))\n",
    "weights_to_plot.plot(kind=\"bar\", stacked=True, color=palette, ax=ax,\n",
    "                     alpha=0.85)\n",
    "\n",
    "ax.margins(x=0.0)\n",
    "ax.set_xlabel(\"Optimization Step\", fontsize=15, visible=True)\n",
    "ax.set_ylabel(\"Ensemble Weight\", fontsize=15, visible=True)\n",
    "ax.yaxis.set_tick_params(rotation=0, labelsize=15)\n",
    "ax.xaxis.set_tick_params(rotation=0, labelsize=15)\n",
    "ax.legend(loc=\"best\", bbox_to_anchor=(1, 0.92),\n",
    "          frameon=True, edgecolor=\"k\", fancybox=False,\n",
    "          framealpha=0.7, shadow=False, ncol=1, fontsize=15)\n",
    "fig.tight_layout()"
   ]
  },
  {
   "cell_type": "markdown",
   "metadata": {},
   "source": [
    "To check how the test set performance of the ensemble, compute test set prediction applying the optimal weights:"
   ]
  },
  {
   "cell_type": "code",
   "execution_count": 16,
   "metadata": {},
   "outputs": [],
   "source": [
    "# Use the weights to construct the ensemble on the test set\n",
    "y_true_one_hot_test = np.eye(10)[y_test.numpy()]\n",
    "\n",
    "# Compute the test loss for each ensemble iteration\n",
    "ensemble_loss_test = []\n",
    "for _, row in model_weights.iterrows():\n",
    "    # Compute test prediction for this iteration of ensemble weights\n",
    "    tmp_y_hat = np.array(\n",
    "        [y_hats_test[model_name] * weight\n",
    "         for model_name, weight in row.items()]\n",
    "        ).sum(axis=0)\n",
    "\n",
    "    ensemble_loss_test.append(\n",
    "        cross_entropy(tmp_y_hat, y_true_one_hot_test))\n",
    "ensemble_loss_test = pd.Series(ensemble_loss_test)"
   ]
  },
  {
   "cell_type": "markdown",
   "metadata": {},
   "source": [
    "We will compare the optimized ensemble to two baselines: the best model by performance on the validation set, and a simple ensemble which assigns an equal weight to each model in the pool. We already have the data for the former, so let's construct the equally-weighted ensembles:"
   ]
  },
  {
   "cell_type": "code",
   "execution_count": 17,
   "metadata": {},
   "outputs": [],
   "source": [
    "# Compute loss of an ensemble which equally weights each model in the pool\n",
    "y_val_avg = np.array([_y for m, _y in y_hats_val.items()]).mean(axis=0)\n",
    "ens_loss_val_avg = cross_entropy(y_val_avg, y_true_one_hot_val)\n",
    "\n",
    "y_test_avg = np.array([_y for m, _y in y_hats_test.items()]).mean(axis=0)\n",
    "ens_loss_test_avg = cross_entropy(y_test_avg, y_true_one_hot_test)"
   ]
  },
  {
   "cell_type": "markdown",
   "metadata": {},
   "source": [
    "The figure below plots the ensemble losses as a funciton of the number of iterations for the validation and test sets on the left and right panels respectively. On each subplot the solid blue lines shows the loss of the optimal ensemble as iterations progress, while the black and red solid lines represent the losses of the best model and equally-weighted ensemble respectively.   "
   ]
  },
  {
   "cell_type": "code",
   "execution_count": 18,
   "metadata": {},
   "outputs": [
    {
     "data": {
      "image/png": "[encoded data removed]",
      "text/plain": [
       "<Figure size 1080x504 with 2 Axes>"
      ]
     },
     "metadata": {
      "needs_background": "light"
     },
     "output_type": "display_data"
    }
   ],
   "source": [
    "fig, ax = plt.subplots(1, 2, figsize=(15, 7), sharey=False)\n",
    "ax[0].plot(ensemble_loss, color=\"#1f77b4\", lw=2.75,\n",
    "           label=\"ensemble loss\")\n",
    "ax[0].plot(pd.Series(ensemble_loss[0], ensemble_loss.index),\n",
    "           color=\"k\", lw=1.75, ls=\"--\", dashes=(5, 5),\n",
    "           label=\"baseline 1: best model\")\n",
    "ax[0].plot(pd.Series(ens_loss_val_avg, ensemble_loss.index),\n",
    "           color=\"r\", lw=1.75, ls=\"--\", dashes=(5, 5),\n",
    "           label=\"baseline 2: average of all models\")\n",
    "\n",
    "ax[1].plot(ensemble_loss_test, color=\"#1f77b4\", lw=2.75,\n",
    "           label=\"ensemble loss\")\n",
    "ax[1].plot(pd.Series(ensemble_loss_test[0], ensemble_loss_test.index),\n",
    "           color=\"k\", lw=1.75, ls=\"--\", dashes=(5, 5),\n",
    "           label=\"baseline 1: best model on validation set\")\n",
    "ax[1].plot(pd.Series(ens_loss_test_avg, ensemble_loss.index),\n",
    "           color=\"r\", lw=1.75, ls=\"--\", dashes=(5, 5),\n",
    "           label=\"baseline 2: average of all models\")\n",
    "\n",
    "ax[0].set_title(\"Validation Loss\", fontsize=17)\n",
    "ax[1].set_title(\"Test Loss\", fontsize=17)\n",
    "\n",
    "for x in ax:\n",
    "    x.margins(x=0.0)\n",
    "    x.set_xlabel(\"Optimization Step\", fontsize=15, visible=True)\n",
    "    x.set_ylabel(\"\", fontsize=15, visible=False)\n",
    "    x.yaxis.set_tick_params(labelsize=15)\n",
    "    x.xaxis.set_tick_params(labelsize=15)\n",
    "    x.legend(loc=\"upper right\", bbox_to_anchor=(1, 0.92),\n",
    "             frameon=True, edgecolor=\"k\", fancybox=False,\n",
    "             framealpha=0.7, shadow=False, ncol=1, fontsize=15)\n",
    "fig.tight_layout(w_pad=3.14)"
   ]
  },
  {
   "cell_type": "markdown",
   "metadata": {},
   "source": [
    "Of course, the ensemble optimization is flexible enough to accomodate other loss functions, for instance we can build an ensemble that maximizes accuracy:"
   ]
  },
  {
   "cell_type": "code",
   "execution_count": 19,
   "metadata": {},
   "outputs": [],
   "source": [
    "# Accuracy-maximizing ensemble on the validation set\n",
    "ensemble_acc, model_weights_acc = ensemble_selector(\n",
    "    loss_function=lambda p, t: -accuracy(p, t),  # - for minimization\n",
    "    y_hats=y_hats_val, y_true=y_true_one_hot_val,\n",
    "    init_size=1, replacement=True, max_iter=10\n",
    "    )\n",
    "ensemble_acc = -ensemble_acc  # back to positive domain\n",
    "\n",
    "# Compute accuracy of the equally weighted ensemble\n",
    "ens_acc_val_avg = accuracy(y_val_avg, y_true_one_hot_val)\n",
    "\n",
    "# Apply the weights to the predicitons on the test set\n",
    "# Compute the test loss for each ensemble iteration\n",
    "ensemble_acc_test = []\n",
    "for _, row in model_weights_acc.iterrows():\n",
    "    # Compute test prediction for this iteration of ensemble weights\n",
    "    tmp_y_hat = np.array(\n",
    "        [y_hats_test[model_name] * weight\n",
    "         for model_name, weight in row.items()]\n",
    "        ).sum(axis=0)\n",
    "\n",
    "    ensemble_acc_test.append(\n",
    "        accuracy(tmp_y_hat, y_true_one_hot_test))\n",
    "ensemble_acc_test = pd.Series(ensemble_acc_test)\n",
    "\n",
    "# Equally-weighted ensemble\n",
    "ens_acc_test_avg = accuracy(y_test_avg, y_true_one_hot_test)"
   ]
  },
  {
   "cell_type": "markdown",
   "metadata": {},
   "source": [
    "The figure below repeats the analysis from the previous figure for accuracies:"
   ]
  },
  {
   "cell_type": "code",
   "execution_count": 20,
   "metadata": {},
   "outputs": [
    {
     "data": {
      "image/png": "[encoded data removed]",
      "text/plain": [
       "<Figure size 1080x504 with 2 Axes>"
      ]
     },
     "metadata": {
      "needs_background": "light"
     },
     "output_type": "display_data"
    }
   ],
   "source": [
    "    fig, ax = plt.subplots(1, 2, figsize=(15, 7), sharey=False)\n",
    "    ax[0].plot(ensemble_acc, color=\"#1f77b4\", lw=2.75,\n",
    "               label=\"ensemble accuracy\")\n",
    "    ax[0].plot(pd.Series(ensemble_acc[0], ensemble_acc.index),\n",
    "               color=\"k\", lw=1.75, ls=\"--\", dashes=(5, 5),\n",
    "               label=\"baseline 1: best model\")\n",
    "    ax[0].plot(pd.Series(ens_acc_val_avg, ensemble_loss.index),\n",
    "               color=\"r\", lw=1.75, ls=\"--\", dashes=(5, 5),\n",
    "               label=\"baseline 2: average of all models\")\n",
    "\n",
    "    ax[1].plot(ensemble_acc_test, color=\"#1f77b4\", lw=2.75,\n",
    "               label=\"ensemble accuracy\")\n",
    "    ax[1].plot(pd.Series(ensemble_acc_test[0], ensemble_loss_test.index),\n",
    "               color=\"k\", lw=1.75, ls=\"--\", dashes=(5, 5),\n",
    "               label=\"baseline 1: best model on validation set\")\n",
    "    ax[1].plot(pd.Series(ens_acc_test_avg, ensemble_loss.index),\n",
    "               color=\"r\", lw=1.75, ls=\"--\", dashes=(5, 5),\n",
    "               label=\"baseline 2: average of all models\")\n",
    "\n",
    "    ax[0].set_title(\"Validation Accuracy\", fontsize=17)\n",
    "    ax[1].set_title(\"Test Accuracy\", fontsize=17)\n",
    "\n",
    "    for x in ax:\n",
    "        x.margins(x=0.0)\n",
    "        x.set_xlabel(\"Optimization Step\", fontsize=15, visible=True)\n",
    "        x.set_ylabel(\"\", fontsize=15, visible=False)\n",
    "        x.yaxis.set_tick_params(labelsize=15)\n",
    "        x.xaxis.set_tick_params(labelsize=15)\n",
    "        x.legend(loc=\"upper right\", bbox_to_anchor=(1, 0.72),\n",
    "                 frameon=True, edgecolor=\"k\", fancybox=False,\n",
    "                 framealpha=0.7, shadow=False, ncol=1, fontsize=15)\n",
    "    fig.tight_layout()"
   ]
  }
 ],
 "metadata": {
  "kernelspec": {
   "display_name": "Python 3",
   "language": "python",
   "name": "python3"
  },
  "language_info": {
   "codemirror_mode": {
    "name": "ipython",
    "version": 3
   },
   "file_extension": ".py",
   "mimetype": "text/x-python",
   "name": "python",
   "nbconvert_exporter": "python",
   "pygments_lexer": "ipython3",
   "version": "3.7.4"
  }
 },
 "nbformat": 4,
 "nbformat_minor": 2
}
